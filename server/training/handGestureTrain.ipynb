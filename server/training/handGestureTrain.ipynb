{
  "cells": [
    {
      "cell_type": "code",
      "execution_count": 1,
      "metadata": {
        "id": "igMyGnjE9hEp"
      },
      "outputs": [],
      "source": [
        "import csv\n",
        "import numpy as np\n",
        "import tensorflow as tf\n",
        "from sklearn.model_selection import train_test_split\n",
        "\n",
        "RANDOM_SEED = 42"
      ]
    },
    {
      "cell_type": "markdown",
      "metadata": {
        "id": "t2HDvhIu9hEr"
      },
      "source": [
        "# Specify each path"
      ]
    },
    {
      "cell_type": "code",
      "execution_count": 2,
      "metadata": {
        "id": "9NvZP2Zn9hEy"
      },
      "outputs": [],
      "source": [
        "dataset = 'model/keypoint_classifier/keypoint.csv'\n",
        "model_save_path = 'model/keypoint_classifier/keypoint_classifier.hdf5'\n",
        "tflite_save_path = 'model/keypoint_classifier/keypoint_classifier.tflite'"
      ]
    },
    {
      "cell_type": "markdown",
      "metadata": {
        "id": "s5oMH7x19hEz"
      },
      "source": [
        "# Set number of classes"
      ]
    },
    {
      "cell_type": "code",
      "execution_count": 3,
      "metadata": {
        "id": "du4kodXL9hEz"
      },
      "outputs": [],
      "source": [
        "NUM_CLASSES = 4"
      ]
    },
    {
      "cell_type": "markdown",
      "metadata": {
        "id": "XjnL0uso9hEz"
      },
      "source": [
        "# Dataset reading"
      ]
    },
    {
      "cell_type": "code",
      "execution_count": 4,
      "metadata": {
        "id": "QT5ZqtEz9hE0"
      },
      "outputs": [],
      "source": [
        "X_dataset = np.loadtxt(dataset, delimiter=',', dtype='float32', usecols=list(range(1, (21 * 2) + 1)))"
      ]
    },
    {
      "cell_type": "code",
      "execution_count": 5,
      "metadata": {
        "id": "QmoKFsp49hE0"
      },
      "outputs": [],
      "source": [
        "y_dataset = np.loadtxt(dataset, delimiter=',', dtype='int32', usecols=(0))"
      ]
    },
    {
      "cell_type": "code",
      "execution_count": 6,
      "metadata": {
        "id": "xQU7JTZ_9hE0"
      },
      "outputs": [],
      "source": [
        "X_train, X_test, y_train, y_test = train_test_split(X_dataset, y_dataset, train_size=0.75, random_state=RANDOM_SEED)"
      ]
    },
    {
      "cell_type": "markdown",
      "metadata": {
        "id": "mxK_lETT9hE0"
      },
      "source": [
        "# Model architecture"
      ]
    },
    {
      "cell_type": "code",
      "execution_count": 7,
      "metadata": {
        "id": "vHBmUf1t9hE1"
      },
      "outputs": [],
      "source": [
        "model = tf.keras.models.Sequential([\n",
        "    tf.keras.layers.Input((21 * 2, )),\n",
        "    tf.keras.layers.Dropout(0.2),\n",
        "    tf.keras.layers.Dense(20, activation='relu'),\n",
        "    tf.keras.layers.Dropout(0.4),\n",
        "    tf.keras.layers.Dense(10, activation='relu'),\n",
        "    tf.keras.layers.Dense(NUM_CLASSES, activation='softmax')\n",
        "])"
      ]
    },
    {
      "cell_type": "code",
      "execution_count": 8,
      "metadata": {
        "colab": {
          "base_uri": "https://localhost:8080/"
        },
        "id": "ypqky9tc9hE1",
        "outputId": "5db082bb-30e3-4110-bf63-a1ee777ecd46"
      },
      "outputs": [
        {
          "name": "stdout",
          "output_type": "stream",
          "text": [
            "Model: \"sequential\"\n",
            "_________________________________________________________________\n",
            " Layer (type)                Output Shape              Param #   \n",
            "=================================================================\n",
            " dropout (Dropout)           (None, 42)                0         \n",
            "                                                                 \n",
            " dense (Dense)               (None, 20)                860       \n",
            "                                                                 \n",
            " dropout_1 (Dropout)         (None, 20)                0         \n",
            "                                                                 \n",
            " dense_1 (Dense)             (None, 10)                210       \n",
            "                                                                 \n",
            " dense_2 (Dense)             (None, 4)                 44        \n",
            "                                                                 \n",
            "=================================================================\n",
            "Total params: 1,114\n",
            "Trainable params: 1,114\n",
            "Non-trainable params: 0\n",
            "_________________________________________________________________\n"
          ]
        }
      ],
      "source": [
        "model.summary()  # tf.keras.utils.plot_model(model, show_shapes=True)"
      ]
    },
    {
      "cell_type": "code",
      "execution_count": 9,
      "metadata": {
        "id": "MbMjOflQ9hE1"
      },
      "outputs": [],
      "source": [
        "# Model checkpoint callback\n",
        "cp_callback = tf.keras.callbacks.ModelCheckpoint(\n",
        "    model_save_path, verbose=1, save_weights_only=False)\n",
        "# Callback for early stopping\n",
        "es_callback = tf.keras.callbacks.EarlyStopping(patience=20, verbose=1)"
      ]
    },
    {
      "cell_type": "code",
      "execution_count": 10,
      "metadata": {
        "id": "c3Dac0M_9hE2"
      },
      "outputs": [],
      "source": [
        "# Model compilation\n",
        "model.compile(\n",
        "    optimizer='adam',\n",
        "    loss='sparse_categorical_crossentropy',\n",
        "    metrics=['accuracy']\n",
        ")"
      ]
    },
    {
      "cell_type": "markdown",
      "metadata": {
        "id": "7XI0j1Iu9hE2"
      },
      "source": [
        "# Model training"
      ]
    },
    {
      "cell_type": "code",
      "execution_count": 11,
      "metadata": {
        "colab": {
          "base_uri": "https://localhost:8080/"
        },
        "id": "WirBl-JE9hE3",
        "outputId": "71b30ca2-8294-4d9d-8aa2-800d90d399de",
        "scrolled": true
      },
      "outputs": [
        {
          "name": "stdout",
          "output_type": "stream",
          "text": [
            "Epoch 1/1000\n"
          ]
        },
        {
          "name": "stdout",
          "output_type": "stream",
          "text": [
            "16/27 [================>.............] - ETA: 0s - loss: 1.5648 - accuracy: 0.1362 \n",
            "Epoch 1: saving model to model/keypoint_classifier\\keypoint_classifier.hdf5\n",
            "27/27 [==============================] - 1s 12ms/step - loss: 1.5161 - accuracy: 0.1672 - val_loss: 1.3536 - val_accuracy: 0.3270\n",
            "Epoch 2/1000\n",
            "26/27 [===========================>..] - ETA: 0s - loss: 1.3703 - accuracy: 0.2909\n",
            "Epoch 2: saving model to model/keypoint_classifier\\keypoint_classifier.hdf5\n",
            "27/27 [==============================] - 0s 7ms/step - loss: 1.3700 - accuracy: 0.2913 - val_loss: 1.2991 - val_accuracy: 0.4906\n",
            "Epoch 3/1000\n",
            "17/27 [=================>............] - ETA: 0s - loss: 1.3096 - accuracy: 0.3617\n",
            "Epoch 3: saving model to model/keypoint_classifier\\keypoint_classifier.hdf5\n",
            "27/27 [==============================] - 0s 6ms/step - loss: 1.2965 - accuracy: 0.3716 - val_loss: 1.2416 - val_accuracy: 0.4636\n",
            "Epoch 4/1000\n",
            "23/27 [========================>.....] - ETA: 0s - loss: 1.2196 - accuracy: 0.4202\n",
            "Epoch 4: saving model to model/keypoint_classifier\\keypoint_classifier.hdf5\n",
            "27/27 [==============================] - 0s 8ms/step - loss: 1.2186 - accuracy: 0.4162 - val_loss: 1.1373 - val_accuracy: 0.4564\n",
            "Epoch 5/1000\n",
            "16/27 [================>.............] - ETA: 0s - loss: 1.1487 - accuracy: 0.4419\n",
            "Epoch 5: saving model to model/keypoint_classifier\\keypoint_classifier.hdf5\n",
            "27/27 [==============================] - 0s 6ms/step - loss: 1.1489 - accuracy: 0.4327 - val_loss: 1.0651 - val_accuracy: 0.4807\n",
            "Epoch 6/1000\n",
            "16/27 [================>.............] - ETA: 0s - loss: 1.1108 - accuracy: 0.4658\n",
            "Epoch 6: saving model to model/keypoint_classifier\\keypoint_classifier.hdf5\n",
            "27/27 [==============================] - 0s 6ms/step - loss: 1.0951 - accuracy: 0.4726 - val_loss: 0.9706 - val_accuracy: 0.5660\n",
            "Epoch 7/1000\n",
            "16/27 [================>.............] - ETA: 0s - loss: 1.0435 - accuracy: 0.4985\n",
            "Epoch 7: saving model to model/keypoint_classifier\\keypoint_classifier.hdf5\n",
            "27/27 [==============================] - 0s 6ms/step - loss: 1.0286 - accuracy: 0.5061 - val_loss: 0.8834 - val_accuracy: 0.6622\n",
            "Epoch 8/1000\n",
            "15/27 [===============>..............] - ETA: 0s - loss: 1.0008 - accuracy: 0.5312\n",
            "Epoch 8: saving model to model/keypoint_classifier\\keypoint_classifier.hdf5\n",
            "27/27 [==============================] - 0s 6ms/step - loss: 0.9765 - accuracy: 0.5481 - val_loss: 0.8201 - val_accuracy: 0.7143\n",
            "Epoch 9/1000\n",
            "14/27 [==============>...............] - ETA: 0s - loss: 0.9464 - accuracy: 0.5703\n",
            "Epoch 9: saving model to model/keypoint_classifier\\keypoint_classifier.hdf5\n",
            "27/27 [==============================] - 0s 6ms/step - loss: 0.9263 - accuracy: 0.5832 - val_loss: 0.7571 - val_accuracy: 0.7826\n",
            "Epoch 10/1000\n",
            "14/27 [==============>...............] - ETA: 0s - loss: 0.9117 - accuracy: 0.5882\n",
            "Epoch 10: saving model to model/keypoint_classifier\\keypoint_classifier.hdf5\n",
            "27/27 [==============================] - 0s 6ms/step - loss: 0.8956 - accuracy: 0.5999 - val_loss: 0.6984 - val_accuracy: 0.8050\n",
            "Epoch 11/1000\n",
            "15/27 [===============>..............] - ETA: 0s - loss: 0.8478 - accuracy: 0.6250\n",
            "Epoch 11: saving model to model/keypoint_classifier\\keypoint_classifier.hdf5\n",
            "27/27 [==============================] - 0s 6ms/step - loss: 0.8490 - accuracy: 0.6227 - val_loss: 0.6510 - val_accuracy: 0.8140\n",
            "Epoch 12/1000\n",
            "24/27 [=========================>....] - ETA: 0s - loss: 0.8250 - accuracy: 0.6436\n",
            "Epoch 12: saving model to model/keypoint_classifier\\keypoint_classifier.hdf5\n",
            "27/27 [==============================] - 0s 7ms/step - loss: 0.8226 - accuracy: 0.6458 - val_loss: 0.6137 - val_accuracy: 0.8131\n",
            "Epoch 13/1000\n",
            "15/27 [===============>..............] - ETA: 0s - loss: 0.7849 - accuracy: 0.6635\n",
            "Epoch 13: saving model to model/keypoint_classifier\\keypoint_classifier.hdf5\n",
            "27/27 [==============================] - 0s 6ms/step - loss: 0.7846 - accuracy: 0.6578 - val_loss: 0.5758 - val_accuracy: 0.8311\n",
            "Epoch 14/1000\n",
            "16/27 [================>.............] - ETA: 0s - loss: 0.7579 - accuracy: 0.6753\n",
            "Epoch 14: saving model to model/keypoint_classifier\\keypoint_classifier.hdf5\n",
            "27/27 [==============================] - 0s 7ms/step - loss: 0.7594 - accuracy: 0.6686 - val_loss: 0.5435 - val_accuracy: 0.8365\n",
            "Epoch 15/1000\n",
            "23/27 [========================>.....] - ETA: 0s - loss: 0.7469 - accuracy: 0.6722\n",
            "Epoch 15: saving model to model/keypoint_classifier\\keypoint_classifier.hdf5\n",
            "27/27 [==============================] - 0s 7ms/step - loss: 0.7425 - accuracy: 0.6773 - val_loss: 0.5220 - val_accuracy: 0.8688\n",
            "Epoch 16/1000\n",
            "15/27 [===============>..............] - ETA: 0s - loss: 0.7282 - accuracy: 0.6896\n",
            "Epoch 16: saving model to model/keypoint_classifier\\keypoint_classifier.hdf5\n",
            "27/27 [==============================] - 0s 6ms/step - loss: 0.7205 - accuracy: 0.6898 - val_loss: 0.5031 - val_accuracy: 0.8841\n",
            "Epoch 17/1000\n",
            "18/27 [===================>..........] - ETA: 0s - loss: 0.7026 - accuracy: 0.7062\n",
            "Epoch 17: saving model to model/keypoint_classifier\\keypoint_classifier.hdf5\n",
            "27/27 [==============================] - 0s 6ms/step - loss: 0.7149 - accuracy: 0.6961 - val_loss: 0.4756 - val_accuracy: 0.8868\n",
            "Epoch 18/1000\n",
            "17/27 [=================>............] - ETA: 0s - loss: 0.7013 - accuracy: 0.6953\n",
            "Epoch 18: saving model to model/keypoint_classifier\\keypoint_classifier.hdf5\n",
            "27/27 [==============================] - 0s 6ms/step - loss: 0.6977 - accuracy: 0.6982 - val_loss: 0.4585 - val_accuracy: 0.8931\n",
            "Epoch 19/1000\n",
            "16/27 [================>.............] - ETA: 0s - loss: 0.6885 - accuracy: 0.6992\n",
            "Epoch 19: saving model to model/keypoint_classifier\\keypoint_classifier.hdf5\n",
            "27/27 [==============================] - 0s 6ms/step - loss: 0.6815 - accuracy: 0.7111 - val_loss: 0.4452 - val_accuracy: 0.9039\n",
            "Epoch 20/1000\n",
            "16/27 [================>.............] - ETA: 0s - loss: 0.6573 - accuracy: 0.7314\n",
            "Epoch 20: saving model to model/keypoint_classifier\\keypoint_classifier.hdf5\n",
            "27/27 [==============================] - 0s 6ms/step - loss: 0.6681 - accuracy: 0.7252 - val_loss: 0.4272 - val_accuracy: 0.9075\n",
            "Epoch 21/1000\n",
            "15/27 [===============>..............] - ETA: 0s - loss: 0.6552 - accuracy: 0.7271\n",
            "Epoch 21: saving model to model/keypoint_classifier\\keypoint_classifier.hdf5\n",
            "27/27 [==============================] - 0s 6ms/step - loss: 0.6530 - accuracy: 0.7348 - val_loss: 0.4168 - val_accuracy: 0.9137\n",
            "Epoch 22/1000\n",
            "17/27 [=================>............] - ETA: 0s - loss: 0.6766 - accuracy: 0.7132\n",
            "Epoch 22: saving model to model/keypoint_classifier\\keypoint_classifier.hdf5\n",
            "27/27 [==============================] - 0s 6ms/step - loss: 0.6556 - accuracy: 0.7267 - val_loss: 0.4062 - val_accuracy: 0.9173\n",
            "Epoch 23/1000\n",
            "16/27 [================>.............] - ETA: 0s - loss: 0.6803 - accuracy: 0.7124\n",
            "Epoch 23: saving model to model/keypoint_classifier\\keypoint_classifier.hdf5\n",
            "27/27 [==============================] - 0s 6ms/step - loss: 0.6664 - accuracy: 0.7171 - val_loss: 0.3919 - val_accuracy: 0.9227\n",
            "Epoch 24/1000\n",
            "16/27 [================>.............] - ETA: 0s - loss: 0.6334 - accuracy: 0.7373\n",
            "Epoch 24: saving model to model/keypoint_classifier\\keypoint_classifier.hdf5\n",
            "27/27 [==============================] - 0s 6ms/step - loss: 0.6273 - accuracy: 0.7438 - val_loss: 0.3814 - val_accuracy: 0.9164\n",
            "Epoch 25/1000\n",
            "16/27 [================>.............] - ETA: 0s - loss: 0.6237 - accuracy: 0.7500\n",
            "Epoch 25: saving model to model/keypoint_classifier\\keypoint_classifier.hdf5\n",
            "27/27 [==============================] - 0s 8ms/step - loss: 0.6189 - accuracy: 0.7483 - val_loss: 0.3670 - val_accuracy: 0.9245\n",
            "Epoch 26/1000\n",
            "17/27 [=================>............] - ETA: 0s - loss: 0.6216 - accuracy: 0.7518\n",
            "Epoch 26: saving model to model/keypoint_classifier\\keypoint_classifier.hdf5\n",
            "27/27 [==============================] - 0s 6ms/step - loss: 0.6181 - accuracy: 0.7507 - val_loss: 0.3626 - val_accuracy: 0.9335\n",
            "Epoch 27/1000\n",
            "16/27 [================>.............] - ETA: 0s - loss: 0.6076 - accuracy: 0.7627\n",
            "Epoch 27: saving model to model/keypoint_classifier\\keypoint_classifier.hdf5\n",
            "27/27 [==============================] - 0s 6ms/step - loss: 0.6012 - accuracy: 0.7621 - val_loss: 0.3518 - val_accuracy: 0.9362\n",
            "Epoch 28/1000\n",
            "16/27 [================>.............] - ETA: 0s - loss: 0.6253 - accuracy: 0.7461\n",
            "Epoch 28: saving model to model/keypoint_classifier\\keypoint_classifier.hdf5\n",
            "27/27 [==============================] - 0s 6ms/step - loss: 0.6222 - accuracy: 0.7468 - val_loss: 0.3405 - val_accuracy: 0.9416\n",
            "Epoch 29/1000\n",
            "15/27 [===============>..............] - ETA: 0s - loss: 0.5796 - accuracy: 0.7719\n",
            "Epoch 29: saving model to model/keypoint_classifier\\keypoint_classifier.hdf5\n",
            "27/27 [==============================] - 0s 6ms/step - loss: 0.5884 - accuracy: 0.7678 - val_loss: 0.3334 - val_accuracy: 0.9452\n",
            "Epoch 30/1000\n",
            "17/27 [=================>............] - ETA: 0s - loss: 0.6153 - accuracy: 0.7505\n",
            "Epoch 30: saving model to model/keypoint_classifier\\keypoint_classifier.hdf5\n",
            "27/27 [==============================] - 0s 6ms/step - loss: 0.6000 - accuracy: 0.7612 - val_loss: 0.3313 - val_accuracy: 0.9389\n",
            "Epoch 31/1000\n",
            "16/27 [================>.............] - ETA: 0s - loss: 0.5850 - accuracy: 0.7676\n",
            "Epoch 31: saving model to model/keypoint_classifier\\keypoint_classifier.hdf5\n",
            "27/27 [==============================] - 0s 6ms/step - loss: 0.5804 - accuracy: 0.7684 - val_loss: 0.3177 - val_accuracy: 0.9452\n",
            "Epoch 32/1000\n",
            "16/27 [================>.............] - ETA: 0s - loss: 0.5828 - accuracy: 0.7661\n",
            "Epoch 32: saving model to model/keypoint_classifier\\keypoint_classifier.hdf5\n",
            "27/27 [==============================] - 0s 6ms/step - loss: 0.5764 - accuracy: 0.7693 - val_loss: 0.3149 - val_accuracy: 0.9497\n",
            "Epoch 33/1000\n",
            "15/27 [===============>..............] - ETA: 0s - loss: 0.5837 - accuracy: 0.7693\n",
            "Epoch 33: saving model to model/keypoint_classifier\\keypoint_classifier.hdf5\n",
            "27/27 [==============================] - 0s 6ms/step - loss: 0.5732 - accuracy: 0.7764 - val_loss: 0.3105 - val_accuracy: 0.9452\n",
            "Epoch 34/1000\n",
            "16/27 [================>.............] - ETA: 0s - loss: 0.5795 - accuracy: 0.7705\n",
            "Epoch 34: saving model to model/keypoint_classifier\\keypoint_classifier.hdf5\n",
            "27/27 [==============================] - 0s 6ms/step - loss: 0.5678 - accuracy: 0.7746 - val_loss: 0.2999 - val_accuracy: 0.9524\n",
            "Epoch 35/1000\n",
            "15/27 [===============>..............] - ETA: 0s - loss: 0.5645 - accuracy: 0.7823\n",
            "Epoch 35: saving model to model/keypoint_classifier\\keypoint_classifier.hdf5\n",
            "27/27 [==============================] - 0s 6ms/step - loss: 0.5638 - accuracy: 0.7830 - val_loss: 0.2984 - val_accuracy: 0.9542\n",
            "Epoch 36/1000\n",
            "16/27 [================>.............] - ETA: 0s - loss: 0.5654 - accuracy: 0.7783\n",
            "Epoch 36: saving model to model/keypoint_classifier\\keypoint_classifier.hdf5\n",
            "27/27 [==============================] - 0s 8ms/step - loss: 0.5516 - accuracy: 0.7845 - val_loss: 0.2912 - val_accuracy: 0.9488\n",
            "Epoch 37/1000\n",
            "24/27 [=========================>....] - ETA: 0s - loss: 0.5659 - accuracy: 0.7816\n",
            "Epoch 37: saving model to model/keypoint_classifier\\keypoint_classifier.hdf5\n",
            "27/27 [==============================] - 0s 7ms/step - loss: 0.5654 - accuracy: 0.7821 - val_loss: 0.2896 - val_accuracy: 0.9578\n",
            "Epoch 38/1000\n",
            "18/27 [===================>..........] - ETA: 0s - loss: 0.5531 - accuracy: 0.7925\n",
            "Epoch 38: saving model to model/keypoint_classifier\\keypoint_classifier.hdf5\n",
            "27/27 [==============================] - 0s 6ms/step - loss: 0.5484 - accuracy: 0.7929 - val_loss: 0.2840 - val_accuracy: 0.9551\n",
            "Epoch 39/1000\n",
            "18/27 [===================>..........] - ETA: 0s - loss: 0.5194 - accuracy: 0.7995\n",
            "Epoch 39: saving model to model/keypoint_classifier\\keypoint_classifier.hdf5\n",
            "27/27 [==============================] - 0s 6ms/step - loss: 0.5307 - accuracy: 0.7932 - val_loss: 0.2789 - val_accuracy: 0.9542\n",
            "Epoch 40/1000\n",
            "14/27 [==============>...............] - ETA: 0s - loss: 0.5521 - accuracy: 0.7807\n",
            "Epoch 40: saving model to model/keypoint_classifier\\keypoint_classifier.hdf5\n",
            "27/27 [==============================] - 0s 6ms/step - loss: 0.5543 - accuracy: 0.7833 - val_loss: 0.2759 - val_accuracy: 0.9587\n",
            "Epoch 41/1000\n",
            "18/27 [===================>..........] - ETA: 0s - loss: 0.5041 - accuracy: 0.7956\n",
            "Epoch 41: saving model to model/keypoint_classifier\\keypoint_classifier.hdf5\n",
            "27/27 [==============================] - 0s 6ms/step - loss: 0.5032 - accuracy: 0.7980 - val_loss: 0.2730 - val_accuracy: 0.9488\n",
            "Epoch 42/1000\n",
            "26/27 [===========================>..] - ETA: 0s - loss: 0.5367 - accuracy: 0.7993\n",
            "Epoch 42: saving model to model/keypoint_classifier\\keypoint_classifier.hdf5\n",
            "27/27 [==============================] - 0s 7ms/step - loss: 0.5369 - accuracy: 0.7989 - val_loss: 0.2701 - val_accuracy: 0.9551\n",
            "Epoch 43/1000\n",
            "18/27 [===================>..........] - ETA: 0s - loss: 0.5304 - accuracy: 0.7934\n",
            "Epoch 43: saving model to model/keypoint_classifier\\keypoint_classifier.hdf5\n",
            "27/27 [==============================] - 0s 5ms/step - loss: 0.5279 - accuracy: 0.7977 - val_loss: 0.2645 - val_accuracy: 0.9587\n",
            "Epoch 44/1000\n",
            "23/27 [========================>.....] - ETA: 0s - loss: 0.5385 - accuracy: 0.7908\n",
            "Epoch 44: saving model to model/keypoint_classifier\\keypoint_classifier.hdf5\n",
            "27/27 [==============================] - 0s 9ms/step - loss: 0.5354 - accuracy: 0.7908 - val_loss: 0.2618 - val_accuracy: 0.9614\n",
            "Epoch 45/1000\n",
            "17/27 [=================>............] - ETA: 0s - loss: 0.5177 - accuracy: 0.7960\n",
            "Epoch 45: saving model to model/keypoint_classifier\\keypoint_classifier.hdf5\n",
            "27/27 [==============================] - 0s 6ms/step - loss: 0.5292 - accuracy: 0.7950 - val_loss: 0.2698 - val_accuracy: 0.9560\n",
            "Epoch 46/1000\n",
            "15/27 [===============>..............] - ETA: 0s - loss: 0.4910 - accuracy: 0.8104\n",
            "Epoch 46: saving model to model/keypoint_classifier\\keypoint_classifier.hdf5\n",
            "27/27 [==============================] - 0s 6ms/step - loss: 0.4915 - accuracy: 0.8151 - val_loss: 0.2589 - val_accuracy: 0.9614\n",
            "Epoch 47/1000\n",
            "15/27 [===============>..............] - ETA: 0s - loss: 0.4965 - accuracy: 0.8021\n",
            "Epoch 47: saving model to model/keypoint_classifier\\keypoint_classifier.hdf5\n",
            "27/27 [==============================] - 0s 6ms/step - loss: 0.5150 - accuracy: 0.7989 - val_loss: 0.2534 - val_accuracy: 0.9551\n",
            "Epoch 48/1000\n",
            "20/27 [=====================>........] - ETA: 0s - loss: 0.5232 - accuracy: 0.7977\n",
            "Epoch 48: saving model to model/keypoint_classifier\\keypoint_classifier.hdf5\n",
            "27/27 [==============================] - 0s 5ms/step - loss: 0.5215 - accuracy: 0.7947 - val_loss: 0.2466 - val_accuracy: 0.9587\n",
            "Epoch 49/1000\n",
            "18/27 [===================>..........] - ETA: 0s - loss: 0.5223 - accuracy: 0.8095\n",
            "Epoch 49: saving model to model/keypoint_classifier\\keypoint_classifier.hdf5\n",
            "27/27 [==============================] - 0s 6ms/step - loss: 0.5290 - accuracy: 0.8031 - val_loss: 0.2534 - val_accuracy: 0.9524\n",
            "Epoch 50/1000\n",
            "15/27 [===============>..............] - ETA: 0s - loss: 0.4998 - accuracy: 0.8010\n",
            "Epoch 50: saving model to model/keypoint_classifier\\keypoint_classifier.hdf5\n",
            "27/27 [==============================] - 0s 6ms/step - loss: 0.5093 - accuracy: 0.7983 - val_loss: 0.2466 - val_accuracy: 0.9596\n",
            "Epoch 51/1000\n",
            "18/27 [===================>..........] - ETA: 0s - loss: 0.4944 - accuracy: 0.8060\n",
            "Epoch 51: saving model to model/keypoint_classifier\\keypoint_classifier.hdf5\n",
            "27/27 [==============================] - 0s 5ms/step - loss: 0.5066 - accuracy: 0.8028 - val_loss: 0.2470 - val_accuracy: 0.9542\n",
            "Epoch 52/1000\n",
            "18/27 [===================>..........] - ETA: 0s - loss: 0.5080 - accuracy: 0.8047\n",
            "Epoch 52: saving model to model/keypoint_classifier\\keypoint_classifier.hdf5\n",
            "27/27 [==============================] - 0s 9ms/step - loss: 0.5188 - accuracy: 0.7998 - val_loss: 0.2459 - val_accuracy: 0.9578\n",
            "Epoch 53/1000\n",
            "16/27 [================>.............] - ETA: 0s - loss: 0.5281 - accuracy: 0.8037\n",
            "Epoch 53: saving model to model/keypoint_classifier\\keypoint_classifier.hdf5\n",
            "27/27 [==============================] - 0s 6ms/step - loss: 0.5046 - accuracy: 0.8121 - val_loss: 0.2464 - val_accuracy: 0.9551\n",
            "Epoch 54/1000\n",
            "16/27 [================>.............] - ETA: 0s - loss: 0.5018 - accuracy: 0.8042\n",
            "Epoch 54: saving model to model/keypoint_classifier\\keypoint_classifier.hdf5\n",
            "27/27 [==============================] - 0s 6ms/step - loss: 0.4983 - accuracy: 0.8079 - val_loss: 0.2393 - val_accuracy: 0.9614\n",
            "Epoch 55/1000\n",
            "20/27 [=====================>........] - ETA: 0s - loss: 0.5166 - accuracy: 0.8020\n",
            "Epoch 55: saving model to model/keypoint_classifier\\keypoint_classifier.hdf5\n",
            "27/27 [==============================] - 0s 5ms/step - loss: 0.5152 - accuracy: 0.8016 - val_loss: 0.2472 - val_accuracy: 0.9560\n",
            "Epoch 56/1000\n",
            "18/27 [===================>..........] - ETA: 0s - loss: 0.5014 - accuracy: 0.8038\n",
            "Epoch 56: saving model to model/keypoint_classifier\\keypoint_classifier.hdf5\n",
            "27/27 [==============================] - 0s 6ms/step - loss: 0.4950 - accuracy: 0.8034 - val_loss: 0.2413 - val_accuracy: 0.9551\n",
            "Epoch 57/1000\n",
            "18/27 [===================>..........] - ETA: 0s - loss: 0.4885 - accuracy: 0.8125\n",
            "Epoch 57: saving model to model/keypoint_classifier\\keypoint_classifier.hdf5\n",
            "27/27 [==============================] - 0s 5ms/step - loss: 0.5022 - accuracy: 0.8097 - val_loss: 0.2407 - val_accuracy: 0.9569\n",
            "Epoch 58/1000\n",
            "17/27 [=================>............] - ETA: 0s - loss: 0.5110 - accuracy: 0.8065\n",
            "Epoch 58: saving model to model/keypoint_classifier\\keypoint_classifier.hdf5\n",
            "27/27 [==============================] - 0s 6ms/step - loss: 0.5015 - accuracy: 0.8061 - val_loss: 0.2372 - val_accuracy: 0.9605\n",
            "Epoch 59/1000\n",
            "14/27 [==============>...............] - ETA: 0s - loss: 0.4843 - accuracy: 0.8198\n",
            "Epoch 59: saving model to model/keypoint_classifier\\keypoint_classifier.hdf5\n",
            "27/27 [==============================] - 0s 6ms/step - loss: 0.4949 - accuracy: 0.8109 - val_loss: 0.2339 - val_accuracy: 0.9560\n",
            "Epoch 60/1000\n",
            "18/27 [===================>..........] - ETA: 0s - loss: 0.4876 - accuracy: 0.8099\n",
            "Epoch 60: saving model to model/keypoint_classifier\\keypoint_classifier.hdf5\n",
            "27/27 [==============================] - 0s 6ms/step - loss: 0.4870 - accuracy: 0.8124 - val_loss: 0.2297 - val_accuracy: 0.9533\n",
            "Epoch 61/1000\n",
            "26/27 [===========================>..] - ETA: 0s - loss: 0.4968 - accuracy: 0.8035\n",
            "Epoch 61: saving model to model/keypoint_classifier\\keypoint_classifier.hdf5\n",
            "27/27 [==============================] - 0s 8ms/step - loss: 0.4961 - accuracy: 0.8037 - val_loss: 0.2269 - val_accuracy: 0.9515\n",
            "Epoch 62/1000\n",
            "18/27 [===================>..........] - ETA: 0s - loss: 0.4967 - accuracy: 0.8034\n",
            "Epoch 62: saving model to model/keypoint_classifier\\keypoint_classifier.hdf5\n",
            "27/27 [==============================] - 0s 6ms/step - loss: 0.4941 - accuracy: 0.8085 - val_loss: 0.2263 - val_accuracy: 0.9506\n",
            "Epoch 63/1000\n",
            "19/27 [====================>.........] - ETA: 0s - loss: 0.4737 - accuracy: 0.8187\n",
            "Epoch 63: saving model to model/keypoint_classifier\\keypoint_classifier.hdf5\n",
            "27/27 [==============================] - 0s 5ms/step - loss: 0.4784 - accuracy: 0.8187 - val_loss: 0.2254 - val_accuracy: 0.9569\n",
            "Epoch 64/1000\n",
            "18/27 [===================>..........] - ETA: 0s - loss: 0.4856 - accuracy: 0.8138\n",
            "Epoch 64: saving model to model/keypoint_classifier\\keypoint_classifier.hdf5\n",
            "27/27 [==============================] - 0s 6ms/step - loss: 0.4895 - accuracy: 0.8145 - val_loss: 0.2266 - val_accuracy: 0.9641\n",
            "Epoch 65/1000\n",
            "14/27 [==============>...............] - ETA: 0s - loss: 0.4935 - accuracy: 0.8075\n",
            "Epoch 65: saving model to model/keypoint_classifier\\keypoint_classifier.hdf5\n",
            "27/27 [==============================] - 0s 6ms/step - loss: 0.4942 - accuracy: 0.8031 - val_loss: 0.2277 - val_accuracy: 0.9560\n",
            "Epoch 66/1000\n",
            "19/27 [====================>.........] - ETA: 0s - loss: 0.4679 - accuracy: 0.8289\n",
            "Epoch 66: saving model to model/keypoint_classifier\\keypoint_classifier.hdf5\n",
            "27/27 [==============================] - 0s 5ms/step - loss: 0.4683 - accuracy: 0.8247 - val_loss: 0.2193 - val_accuracy: 0.9650\n",
            "Epoch 67/1000\n",
            "18/27 [===================>..........] - ETA: 0s - loss: 0.4766 - accuracy: 0.8147\n",
            "Epoch 67: saving model to model/keypoint_classifier\\keypoint_classifier.hdf5\n",
            "27/27 [==============================] - 0s 6ms/step - loss: 0.4649 - accuracy: 0.8202 - val_loss: 0.2175 - val_accuracy: 0.9677\n",
            "Epoch 68/1000\n",
            "20/27 [=====================>........] - ETA: 0s - loss: 0.4562 - accuracy: 0.8234\n",
            "Epoch 68: saving model to model/keypoint_classifier\\keypoint_classifier.hdf5\n",
            "27/27 [==============================] - 0s 5ms/step - loss: 0.4667 - accuracy: 0.8229 - val_loss: 0.2156 - val_accuracy: 0.9533\n",
            "Epoch 69/1000\n",
            "19/27 [====================>.........] - ETA: 0s - loss: 0.4561 - accuracy: 0.8273\n",
            "Epoch 69: saving model to model/keypoint_classifier\\keypoint_classifier.hdf5\n",
            "27/27 [==============================] - 0s 5ms/step - loss: 0.4596 - accuracy: 0.8280 - val_loss: 0.2158 - val_accuracy: 0.9533\n",
            "Epoch 70/1000\n",
            "19/27 [====================>.........] - ETA: 0s - loss: 0.5080 - accuracy: 0.8022\n",
            "Epoch 70: saving model to model/keypoint_classifier\\keypoint_classifier.hdf5\n",
            "27/27 [==============================] - 0s 5ms/step - loss: 0.4856 - accuracy: 0.8133 - val_loss: 0.2146 - val_accuracy: 0.9551\n",
            "Epoch 71/1000\n",
            "19/27 [====================>.........] - ETA: 0s - loss: 0.4739 - accuracy: 0.8133\n",
            "Epoch 71: saving model to model/keypoint_classifier\\keypoint_classifier.hdf5\n",
            "27/27 [==============================] - 0s 5ms/step - loss: 0.4597 - accuracy: 0.8226 - val_loss: 0.2128 - val_accuracy: 0.9506\n",
            "Epoch 72/1000\n",
            "16/27 [================>.............] - ETA: 0s - loss: 0.4609 - accuracy: 0.8228\n",
            "Epoch 72: saving model to model/keypoint_classifier\\keypoint_classifier.hdf5\n",
            "27/27 [==============================] - 0s 8ms/step - loss: 0.4558 - accuracy: 0.8262 - val_loss: 0.2105 - val_accuracy: 0.9515\n",
            "Epoch 73/1000\n",
            "18/27 [===================>..........] - ETA: 0s - loss: 0.4672 - accuracy: 0.8264\n",
            "Epoch 73: saving model to model/keypoint_classifier\\keypoint_classifier.hdf5\n",
            "27/27 [==============================] - 0s 6ms/step - loss: 0.4677 - accuracy: 0.8235 - val_loss: 0.2055 - val_accuracy: 0.9596\n",
            "Epoch 74/1000\n",
            "19/27 [====================>.........] - ETA: 0s - loss: 0.4559 - accuracy: 0.8273\n",
            "Epoch 74: saving model to model/keypoint_classifier\\keypoint_classifier.hdf5\n",
            "27/27 [==============================] - 0s 5ms/step - loss: 0.4526 - accuracy: 0.8262 - val_loss: 0.2104 - val_accuracy: 0.9524\n",
            "Epoch 75/1000\n",
            "18/27 [===================>..........] - ETA: 0s - loss: 0.4314 - accuracy: 0.8368\n",
            "Epoch 75: saving model to model/keypoint_classifier\\keypoint_classifier.hdf5\n",
            "27/27 [==============================] - 0s 6ms/step - loss: 0.4485 - accuracy: 0.8292 - val_loss: 0.2031 - val_accuracy: 0.9596\n",
            "Epoch 76/1000\n",
            "18/27 [===================>..........] - ETA: 0s - loss: 0.4563 - accuracy: 0.8307\n",
            "Epoch 76: saving model to model/keypoint_classifier\\keypoint_classifier.hdf5\n",
            "27/27 [==============================] - 0s 5ms/step - loss: 0.4503 - accuracy: 0.8298 - val_loss: 0.2043 - val_accuracy: 0.9578\n",
            "Epoch 77/1000\n",
            "19/27 [====================>.........] - ETA: 0s - loss: 0.4332 - accuracy: 0.8359\n",
            "Epoch 77: saving model to model/keypoint_classifier\\keypoint_classifier.hdf5\n",
            "27/27 [==============================] - 0s 6ms/step - loss: 0.4410 - accuracy: 0.8334 - val_loss: 0.1954 - val_accuracy: 0.9632\n",
            "Epoch 78/1000\n",
            "18/27 [===================>..........] - ETA: 0s - loss: 0.4912 - accuracy: 0.8056\n",
            "Epoch 78: saving model to model/keypoint_classifier\\keypoint_classifier.hdf5\n",
            "27/27 [==============================] - 0s 5ms/step - loss: 0.4773 - accuracy: 0.8160 - val_loss: 0.2066 - val_accuracy: 0.9614\n",
            "Epoch 79/1000\n",
            "19/27 [====================>.........] - ETA: 0s - loss: 0.4438 - accuracy: 0.8339\n",
            "Epoch 79: saving model to model/keypoint_classifier\\keypoint_classifier.hdf5\n",
            "27/27 [==============================] - 0s 5ms/step - loss: 0.4522 - accuracy: 0.8295 - val_loss: 0.2094 - val_accuracy: 0.9587\n",
            "Epoch 80/1000\n",
            "18/27 [===================>..........] - ETA: 0s - loss: 0.4525 - accuracy: 0.8355\n",
            "Epoch 80: saving model to model/keypoint_classifier\\keypoint_classifier.hdf5\n",
            "27/27 [==============================] - 0s 6ms/step - loss: 0.4594 - accuracy: 0.8331 - val_loss: 0.2023 - val_accuracy: 0.9578\n",
            "Epoch 81/1000\n",
            "15/27 [===============>..............] - ETA: 0s - loss: 0.4685 - accuracy: 0.8224\n",
            "Epoch 81: saving model to model/keypoint_classifier\\keypoint_classifier.hdf5\n",
            "27/27 [==============================] - 0s 7ms/step - loss: 0.4549 - accuracy: 0.8259 - val_loss: 0.2011 - val_accuracy: 0.9623\n",
            "Epoch 82/1000\n",
            "19/27 [====================>.........] - ETA: 0s - loss: 0.4603 - accuracy: 0.8244\n",
            "Epoch 82: saving model to model/keypoint_classifier\\keypoint_classifier.hdf5\n",
            "27/27 [==============================] - 0s 8ms/step - loss: 0.4531 - accuracy: 0.8268 - val_loss: 0.2004 - val_accuracy: 0.9641\n",
            "Epoch 83/1000\n",
            "17/27 [=================>............] - ETA: 0s - loss: 0.4629 - accuracy: 0.8222\n",
            "Epoch 83: saving model to model/keypoint_classifier\\keypoint_classifier.hdf5\n",
            "27/27 [==============================] - 0s 6ms/step - loss: 0.4540 - accuracy: 0.8250 - val_loss: 0.2007 - val_accuracy: 0.9605\n",
            "Epoch 84/1000\n",
            "17/27 [=================>............] - ETA: 0s - loss: 0.4405 - accuracy: 0.8263\n",
            "Epoch 84: saving model to model/keypoint_classifier\\keypoint_classifier.hdf5\n",
            "27/27 [==============================] - 0s 5ms/step - loss: 0.4302 - accuracy: 0.8346 - val_loss: 0.1960 - val_accuracy: 0.9587\n",
            "Epoch 85/1000\n",
            "20/27 [=====================>........] - ETA: 0s - loss: 0.4797 - accuracy: 0.8234\n",
            "Epoch 85: saving model to model/keypoint_classifier\\keypoint_classifier.hdf5\n",
            "27/27 [==============================] - 0s 6ms/step - loss: 0.4754 - accuracy: 0.8235 - val_loss: 0.1951 - val_accuracy: 0.9650\n",
            "Epoch 86/1000\n",
            "27/27 [==============================] - ETA: 0s - loss: 0.4489 - accuracy: 0.8289\n",
            "Epoch 86: saving model to model/keypoint_classifier\\keypoint_classifier.hdf5\n",
            "27/27 [==============================] - 0s 7ms/step - loss: 0.4489 - accuracy: 0.8289 - val_loss: 0.1940 - val_accuracy: 0.9641\n",
            "Epoch 87/1000\n",
            "20/27 [=====================>........] - ETA: 0s - loss: 0.4390 - accuracy: 0.8387\n",
            "Epoch 87: saving model to model/keypoint_classifier\\keypoint_classifier.hdf5\n",
            "27/27 [==============================] - 0s 5ms/step - loss: 0.4434 - accuracy: 0.8328 - val_loss: 0.1925 - val_accuracy: 0.9596\n",
            "Epoch 88/1000\n",
            "17/27 [=================>............] - ETA: 0s - loss: 0.4406 - accuracy: 0.8350\n",
            "Epoch 88: saving model to model/keypoint_classifier\\keypoint_classifier.hdf5\n",
            "27/27 [==============================] - 0s 5ms/step - loss: 0.4516 - accuracy: 0.8286 - val_loss: 0.2002 - val_accuracy: 0.9596\n",
            "Epoch 89/1000\n",
            "26/27 [===========================>..] - ETA: 0s - loss: 0.4640 - accuracy: 0.8254\n",
            "Epoch 89: saving model to model/keypoint_classifier\\keypoint_classifier.hdf5\n",
            "27/27 [==============================] - 0s 7ms/step - loss: 0.4639 - accuracy: 0.8253 - val_loss: 0.1993 - val_accuracy: 0.9605\n",
            "Epoch 90/1000\n",
            "20/27 [=====================>........] - ETA: 0s - loss: 0.4288 - accuracy: 0.8441\n",
            "Epoch 90: saving model to model/keypoint_classifier\\keypoint_classifier.hdf5\n",
            "27/27 [==============================] - 0s 5ms/step - loss: 0.4248 - accuracy: 0.8451 - val_loss: 0.1956 - val_accuracy: 0.9632\n",
            "Epoch 91/1000\n",
            "19/27 [====================>.........] - ETA: 0s - loss: 0.4406 - accuracy: 0.8335\n",
            "Epoch 91: saving model to model/keypoint_classifier\\keypoint_classifier.hdf5\n",
            "27/27 [==============================] - 0s 5ms/step - loss: 0.4459 - accuracy: 0.8277 - val_loss: 0.1950 - val_accuracy: 0.9659\n",
            "Epoch 92/1000\n",
            "21/27 [======================>.......] - ETA: 0s - loss: 0.4518 - accuracy: 0.8259\n",
            "Epoch 92: saving model to model/keypoint_classifier\\keypoint_classifier.hdf5\n",
            "27/27 [==============================] - 0s 7ms/step - loss: 0.4497 - accuracy: 0.8271 - val_loss: 0.1979 - val_accuracy: 0.9569\n",
            "Epoch 93/1000\n",
            "18/27 [===================>..........] - ETA: 0s - loss: 0.4361 - accuracy: 0.8307\n",
            "Epoch 93: saving model to model/keypoint_classifier\\keypoint_classifier.hdf5\n",
            "27/27 [==============================] - 0s 5ms/step - loss: 0.4349 - accuracy: 0.8352 - val_loss: 0.1899 - val_accuracy: 0.9632\n",
            "Epoch 94/1000\n",
            "19/27 [====================>.........] - ETA: 0s - loss: 0.4365 - accuracy: 0.8298\n",
            "Epoch 94: saving model to model/keypoint_classifier\\keypoint_classifier.hdf5\n",
            "27/27 [==============================] - 0s 5ms/step - loss: 0.4475 - accuracy: 0.8292 - val_loss: 0.1931 - val_accuracy: 0.9641\n",
            "Epoch 95/1000\n",
            "18/27 [===================>..........] - ETA: 0s - loss: 0.4228 - accuracy: 0.8372\n",
            "Epoch 95: saving model to model/keypoint_classifier\\keypoint_classifier.hdf5\n",
            "27/27 [==============================] - 0s 6ms/step - loss: 0.4192 - accuracy: 0.8385 - val_loss: 0.1845 - val_accuracy: 0.9677\n",
            "Epoch 96/1000\n",
            "19/27 [====================>.........] - ETA: 0s - loss: 0.4292 - accuracy: 0.8384\n",
            "Epoch 96: saving model to model/keypoint_classifier\\keypoint_classifier.hdf5\n",
            "27/27 [==============================] - 0s 5ms/step - loss: 0.4276 - accuracy: 0.8394 - val_loss: 0.1851 - val_accuracy: 0.9623\n",
            "Epoch 97/1000\n",
            "19/27 [====================>.........] - ETA: 0s - loss: 0.4433 - accuracy: 0.8359\n",
            "Epoch 97: saving model to model/keypoint_classifier\\keypoint_classifier.hdf5\n",
            "27/27 [==============================] - 0s 5ms/step - loss: 0.4397 - accuracy: 0.8394 - val_loss: 0.1868 - val_accuracy: 0.9623\n",
            "Epoch 98/1000\n",
            "18/27 [===================>..........] - ETA: 0s - loss: 0.4250 - accuracy: 0.8390\n",
            "Epoch 98: saving model to model/keypoint_classifier\\keypoint_classifier.hdf5\n",
            "27/27 [==============================] - 0s 5ms/step - loss: 0.4339 - accuracy: 0.8349 - val_loss: 0.1847 - val_accuracy: 0.9686\n",
            "Epoch 99/1000\n",
            "17/27 [=================>............] - ETA: 0s - loss: 0.4372 - accuracy: 0.8382\n",
            "Epoch 99: saving model to model/keypoint_classifier\\keypoint_classifier.hdf5\n",
            "27/27 [==============================] - 0s 6ms/step - loss: 0.4398 - accuracy: 0.8388 - val_loss: 0.1921 - val_accuracy: 0.9587\n",
            "Epoch 100/1000\n",
            "19/27 [====================>.........] - ETA: 0s - loss: 0.4435 - accuracy: 0.8302\n",
            "Epoch 100: saving model to model/keypoint_classifier\\keypoint_classifier.hdf5\n",
            "27/27 [==============================] - 0s 5ms/step - loss: 0.4567 - accuracy: 0.8265 - val_loss: 0.1966 - val_accuracy: 0.9551\n",
            "Epoch 101/1000\n",
            "18/27 [===================>..........] - ETA: 0s - loss: 0.4278 - accuracy: 0.8372\n",
            "Epoch 101: saving model to model/keypoint_classifier\\keypoint_classifier.hdf5\n",
            "27/27 [==============================] - 0s 5ms/step - loss: 0.4270 - accuracy: 0.8409 - val_loss: 0.1915 - val_accuracy: 0.9596\n",
            "Epoch 102/1000\n",
            "14/27 [==============>...............] - ETA: 0s - loss: 0.4357 - accuracy: 0.8510\n",
            "Epoch 102: saving model to model/keypoint_classifier\\keypoint_classifier.hdf5\n",
            "27/27 [==============================] - 0s 6ms/step - loss: 0.4267 - accuracy: 0.8463 - val_loss: 0.1860 - val_accuracy: 0.9632\n",
            "Epoch 103/1000\n",
            "18/27 [===================>..........] - ETA: 0s - loss: 0.4554 - accuracy: 0.8234\n",
            "Epoch 103: saving model to model/keypoint_classifier\\keypoint_classifier.hdf5\n",
            "27/27 [==============================] - 0s 5ms/step - loss: 0.4480 - accuracy: 0.8271 - val_loss: 0.1924 - val_accuracy: 0.9677\n",
            "Epoch 104/1000\n",
            "19/27 [====================>.........] - ETA: 0s - loss: 0.4189 - accuracy: 0.8388\n",
            "Epoch 104: saving model to model/keypoint_classifier\\keypoint_classifier.hdf5\n",
            "27/27 [==============================] - 0s 5ms/step - loss: 0.4231 - accuracy: 0.8355 - val_loss: 0.1921 - val_accuracy: 0.9623\n",
            "Epoch 105/1000\n",
            "19/27 [====================>.........] - ETA: 0s - loss: 0.4457 - accuracy: 0.8363\n",
            "Epoch 105: saving model to model/keypoint_classifier\\keypoint_classifier.hdf5\n",
            "27/27 [==============================] - 0s 5ms/step - loss: 0.4424 - accuracy: 0.8379 - val_loss: 0.1883 - val_accuracy: 0.9677\n",
            "Epoch 106/1000\n",
            "18/27 [===================>..........] - ETA: 0s - loss: 0.4236 - accuracy: 0.8351\n",
            "Epoch 106: saving model to model/keypoint_classifier\\keypoint_classifier.hdf5\n",
            "27/27 [==============================] - 0s 5ms/step - loss: 0.4274 - accuracy: 0.8349 - val_loss: 0.1833 - val_accuracy: 0.9730\n",
            "Epoch 107/1000\n",
            "19/27 [====================>.........] - ETA: 0s - loss: 0.4590 - accuracy: 0.8310\n",
            "Epoch 107: saving model to model/keypoint_classifier\\keypoint_classifier.hdf5\n",
            "27/27 [==============================] - 0s 5ms/step - loss: 0.4533 - accuracy: 0.8277 - val_loss: 0.1882 - val_accuracy: 0.9686\n",
            "Epoch 108/1000\n",
            "18/27 [===================>..........] - ETA: 0s - loss: 0.4308 - accuracy: 0.8442\n",
            "Epoch 108: saving model to model/keypoint_classifier\\keypoint_classifier.hdf5\n",
            "27/27 [==============================] - 0s 5ms/step - loss: 0.4341 - accuracy: 0.8400 - val_loss: 0.1889 - val_accuracy: 0.9596\n",
            "Epoch 109/1000\n",
            "18/27 [===================>..........] - ETA: 0s - loss: 0.4335 - accuracy: 0.8364\n",
            "Epoch 109: saving model to model/keypoint_classifier\\keypoint_classifier.hdf5\n",
            "27/27 [==============================] - 0s 6ms/step - loss: 0.4306 - accuracy: 0.8400 - val_loss: 0.1899 - val_accuracy: 0.9748\n",
            "Epoch 110/1000\n",
            "17/27 [=================>............] - ETA: 0s - loss: 0.4395 - accuracy: 0.8428\n",
            "Epoch 110: saving model to model/keypoint_classifier\\keypoint_classifier.hdf5\n",
            "27/27 [==============================] - 0s 6ms/step - loss: 0.4238 - accuracy: 0.8472 - val_loss: 0.1909 - val_accuracy: 0.9659\n",
            "Epoch 111/1000\n",
            "19/27 [====================>.........] - ETA: 0s - loss: 0.4214 - accuracy: 0.8503\n",
            "Epoch 111: saving model to model/keypoint_classifier\\keypoint_classifier.hdf5\n",
            "27/27 [==============================] - 0s 7ms/step - loss: 0.4191 - accuracy: 0.8490 - val_loss: 0.1901 - val_accuracy: 0.9605\n",
            "Epoch 112/1000\n",
            "20/27 [=====================>........] - ETA: 0s - loss: 0.4275 - accuracy: 0.8406\n",
            "Epoch 112: saving model to model/keypoint_classifier\\keypoint_classifier.hdf5\n",
            "27/27 [==============================] - 0s 5ms/step - loss: 0.4392 - accuracy: 0.8349 - val_loss: 0.1945 - val_accuracy: 0.9596\n",
            "Epoch 113/1000\n",
            "19/27 [====================>.........] - ETA: 0s - loss: 0.4349 - accuracy: 0.8380\n",
            "Epoch 113: saving model to model/keypoint_classifier\\keypoint_classifier.hdf5\n",
            "27/27 [==============================] - 0s 5ms/step - loss: 0.4292 - accuracy: 0.8361 - val_loss: 0.1856 - val_accuracy: 0.9614\n",
            "Epoch 114/1000\n",
            "19/27 [====================>.........] - ETA: 0s - loss: 0.4119 - accuracy: 0.8491\n",
            "Epoch 114: saving model to model/keypoint_classifier\\keypoint_classifier.hdf5\n",
            "27/27 [==============================] - 0s 5ms/step - loss: 0.4121 - accuracy: 0.8496 - val_loss: 0.1785 - val_accuracy: 0.9668\n",
            "Epoch 115/1000\n",
            "18/27 [===================>..........] - ETA: 0s - loss: 0.4519 - accuracy: 0.8416\n",
            "Epoch 115: saving model to model/keypoint_classifier\\keypoint_classifier.hdf5\n",
            "27/27 [==============================] - 0s 6ms/step - loss: 0.4382 - accuracy: 0.8466 - val_loss: 0.1878 - val_accuracy: 0.9623\n",
            "Epoch 116/1000\n",
            "18/27 [===================>..........] - ETA: 0s - loss: 0.4375 - accuracy: 0.8372\n",
            "Epoch 116: saving model to model/keypoint_classifier\\keypoint_classifier.hdf5\n",
            "27/27 [==============================] - 0s 5ms/step - loss: 0.4371 - accuracy: 0.8334 - val_loss: 0.1843 - val_accuracy: 0.9677\n",
            "Epoch 117/1000\n",
            "18/27 [===================>..........] - ETA: 0s - loss: 0.4271 - accuracy: 0.8398\n",
            "Epoch 117: saving model to model/keypoint_classifier\\keypoint_classifier.hdf5\n",
            "27/27 [==============================] - 0s 5ms/step - loss: 0.4222 - accuracy: 0.8415 - val_loss: 0.1923 - val_accuracy: 0.9614\n",
            "Epoch 118/1000\n",
            "18/27 [===================>..........] - ETA: 0s - loss: 0.4285 - accuracy: 0.8372\n",
            "Epoch 118: saving model to model/keypoint_classifier\\keypoint_classifier.hdf5\n",
            "27/27 [==============================] - 0s 5ms/step - loss: 0.4124 - accuracy: 0.8442 - val_loss: 0.1883 - val_accuracy: 0.9650\n",
            "Epoch 119/1000\n",
            "17/27 [=================>............] - ETA: 0s - loss: 0.4238 - accuracy: 0.8424\n",
            "Epoch 119: saving model to model/keypoint_classifier\\keypoint_classifier.hdf5\n",
            "27/27 [==============================] - 0s 6ms/step - loss: 0.4309 - accuracy: 0.8424 - val_loss: 0.1902 - val_accuracy: 0.9614\n",
            "Epoch 120/1000\n",
            "25/27 [==========================>...] - ETA: 0s - loss: 0.4033 - accuracy: 0.8472\n",
            "Epoch 120: saving model to model/keypoint_classifier\\keypoint_classifier.hdf5\n",
            "27/27 [==============================] - 0s 7ms/step - loss: 0.4103 - accuracy: 0.8457 - val_loss: 0.1814 - val_accuracy: 0.9659\n",
            "Epoch 121/1000\n",
            "19/27 [====================>.........] - ETA: 0s - loss: 0.4338 - accuracy: 0.8392\n",
            "Epoch 121: saving model to model/keypoint_classifier\\keypoint_classifier.hdf5\n",
            "27/27 [==============================] - 0s 5ms/step - loss: 0.4216 - accuracy: 0.8409 - val_loss: 0.1827 - val_accuracy: 0.9695\n",
            "Epoch 122/1000\n",
            "19/27 [====================>.........] - ETA: 0s - loss: 0.4186 - accuracy: 0.8433\n",
            "Epoch 122: saving model to model/keypoint_classifier\\keypoint_classifier.hdf5\n",
            "27/27 [==============================] - 0s 5ms/step - loss: 0.4269 - accuracy: 0.8403 - val_loss: 0.1831 - val_accuracy: 0.9721\n",
            "Epoch 123/1000\n",
            "18/27 [===================>..........] - ETA: 0s - loss: 0.4114 - accuracy: 0.8438\n",
            "Epoch 123: saving model to model/keypoint_classifier\\keypoint_classifier.hdf5\n",
            "27/27 [==============================] - 0s 6ms/step - loss: 0.4131 - accuracy: 0.8427 - val_loss: 0.1799 - val_accuracy: 0.9721\n",
            "Epoch 124/1000\n",
            "20/27 [=====================>........] - ETA: 0s - loss: 0.4356 - accuracy: 0.8457\n",
            "Epoch 124: saving model to model/keypoint_classifier\\keypoint_classifier.hdf5\n",
            "27/27 [==============================] - 0s 5ms/step - loss: 0.4241 - accuracy: 0.8478 - val_loss: 0.1813 - val_accuracy: 0.9686\n",
            "Epoch 125/1000\n",
            "18/27 [===================>..........] - ETA: 0s - loss: 0.4101 - accuracy: 0.8451\n",
            "Epoch 125: saving model to model/keypoint_classifier\\keypoint_classifier.hdf5\n",
            "27/27 [==============================] - 0s 5ms/step - loss: 0.4252 - accuracy: 0.8388 - val_loss: 0.1881 - val_accuracy: 0.9677\n",
            "Epoch 126/1000\n",
            "19/27 [====================>.........] - ETA: 0s - loss: 0.3930 - accuracy: 0.8549\n",
            "Epoch 126: saving model to model/keypoint_classifier\\keypoint_classifier.hdf5\n",
            "27/27 [==============================] - 0s 5ms/step - loss: 0.3976 - accuracy: 0.8538 - val_loss: 0.1795 - val_accuracy: 0.9695\n",
            "Epoch 127/1000\n",
            "19/27 [====================>.........] - ETA: 0s - loss: 0.3937 - accuracy: 0.8569\n",
            "Epoch 127: saving model to model/keypoint_classifier\\keypoint_classifier.hdf5\n",
            "27/27 [==============================] - 0s 5ms/step - loss: 0.3881 - accuracy: 0.8589 - val_loss: 0.1774 - val_accuracy: 0.9686\n",
            "Epoch 128/1000\n",
            "19/27 [====================>.........] - ETA: 0s - loss: 0.4221 - accuracy: 0.8454\n",
            "Epoch 128: saving model to model/keypoint_classifier\\keypoint_classifier.hdf5\n",
            "27/27 [==============================] - 0s 5ms/step - loss: 0.4245 - accuracy: 0.8427 - val_loss: 0.1900 - val_accuracy: 0.9641\n",
            "Epoch 129/1000\n",
            "19/27 [====================>.........] - ETA: 0s - loss: 0.4013 - accuracy: 0.8442\n",
            "Epoch 129: saving model to model/keypoint_classifier\\keypoint_classifier.hdf5\n",
            "27/27 [==============================] - 0s 8ms/step - loss: 0.4064 - accuracy: 0.8448 - val_loss: 0.1875 - val_accuracy: 0.9677\n",
            "Epoch 130/1000\n",
            "19/27 [====================>.........] - ETA: 0s - loss: 0.4156 - accuracy: 0.8372\n",
            "Epoch 130: saving model to model/keypoint_classifier\\keypoint_classifier.hdf5\n",
            "27/27 [==============================] - 0s 5ms/step - loss: 0.4103 - accuracy: 0.8391 - val_loss: 0.1855 - val_accuracy: 0.9712\n",
            "Epoch 131/1000\n",
            "19/27 [====================>.........] - ETA: 0s - loss: 0.4163 - accuracy: 0.8425\n",
            "Epoch 131: saving model to model/keypoint_classifier\\keypoint_classifier.hdf5\n",
            "27/27 [==============================] - 0s 5ms/step - loss: 0.4216 - accuracy: 0.8424 - val_loss: 0.1915 - val_accuracy: 0.9641\n",
            "Epoch 132/1000\n",
            "18/27 [===================>..........] - ETA: 0s - loss: 0.3996 - accuracy: 0.8429\n",
            "Epoch 132: saving model to model/keypoint_classifier\\keypoint_classifier.hdf5\n",
            "27/27 [==============================] - 0s 6ms/step - loss: 0.3956 - accuracy: 0.8517 - val_loss: 0.1860 - val_accuracy: 0.9668\n",
            "Epoch 133/1000\n",
            "17/27 [=================>............] - ETA: 0s - loss: 0.4220 - accuracy: 0.8309\n",
            "Epoch 133: saving model to model/keypoint_classifier\\keypoint_classifier.hdf5\n",
            "27/27 [==============================] - 0s 6ms/step - loss: 0.4220 - accuracy: 0.8376 - val_loss: 0.1854 - val_accuracy: 0.9614\n",
            "Epoch 134/1000\n",
            "19/27 [====================>.........] - ETA: 0s - loss: 0.4365 - accuracy: 0.8368\n",
            "Epoch 134: saving model to model/keypoint_classifier\\keypoint_classifier.hdf5\n",
            "27/27 [==============================] - 0s 5ms/step - loss: 0.4217 - accuracy: 0.8388 - val_loss: 0.1845 - val_accuracy: 0.9623\n",
            "Epoch 135/1000\n",
            "18/27 [===================>..........] - ETA: 0s - loss: 0.4059 - accuracy: 0.8520\n",
            "Epoch 135: saving model to model/keypoint_classifier\\keypoint_classifier.hdf5\n",
            "27/27 [==============================] - 0s 6ms/step - loss: 0.3973 - accuracy: 0.8511 - val_loss: 0.1844 - val_accuracy: 0.9659\n",
            "Epoch 136/1000\n",
            "17/27 [=================>............] - ETA: 0s - loss: 0.3978 - accuracy: 0.8534\n",
            "Epoch 136: saving model to model/keypoint_classifier\\keypoint_classifier.hdf5\n",
            "27/27 [==============================] - 0s 6ms/step - loss: 0.4041 - accuracy: 0.8508 - val_loss: 0.1837 - val_accuracy: 0.9632\n",
            "Epoch 137/1000\n",
            "16/27 [================>.............] - ETA: 0s - loss: 0.3955 - accuracy: 0.8511\n",
            "Epoch 137: saving model to model/keypoint_classifier\\keypoint_classifier.hdf5\n",
            "27/27 [==============================] - 0s 6ms/step - loss: 0.4002 - accuracy: 0.8484 - val_loss: 0.1886 - val_accuracy: 0.9641\n",
            "Epoch 138/1000\n",
            "21/27 [======================>.......] - ETA: 0s - loss: 0.3951 - accuracy: 0.8531\n",
            "Epoch 138: saving model to model/keypoint_classifier\\keypoint_classifier.hdf5\n",
            "27/27 [==============================] - 0s 8ms/step - loss: 0.3896 - accuracy: 0.8547 - val_loss: 0.1789 - val_accuracy: 0.9659\n",
            "Epoch 139/1000\n",
            "15/27 [===============>..............] - ETA: 0s - loss: 0.4251 - accuracy: 0.8344\n",
            "Epoch 139: saving model to model/keypoint_classifier\\keypoint_classifier.hdf5\n",
            "27/27 [==============================] - 0s 6ms/step - loss: 0.4190 - accuracy: 0.8442 - val_loss: 0.1789 - val_accuracy: 0.9632\n",
            "Epoch 140/1000\n",
            "27/27 [==============================] - ETA: 0s - loss: 0.3980 - accuracy: 0.8541\n",
            "Epoch 140: saving model to model/keypoint_classifier\\keypoint_classifier.hdf5\n",
            "27/27 [==============================] - 0s 7ms/step - loss: 0.3980 - accuracy: 0.8541 - val_loss: 0.1809 - val_accuracy: 0.9632\n",
            "Epoch 141/1000\n",
            "14/27 [==============>...............] - ETA: 0s - loss: 0.3867 - accuracy: 0.8622\n",
            "Epoch 141: saving model to model/keypoint_classifier\\keypoint_classifier.hdf5\n",
            "27/27 [==============================] - 0s 6ms/step - loss: 0.3839 - accuracy: 0.8580 - val_loss: 0.1812 - val_accuracy: 0.9596\n",
            "Epoch 142/1000\n",
            "19/27 [====================>.........] - ETA: 0s - loss: 0.4219 - accuracy: 0.8491\n",
            "Epoch 142: saving model to model/keypoint_classifier\\keypoint_classifier.hdf5\n",
            "27/27 [==============================] - 0s 6ms/step - loss: 0.4181 - accuracy: 0.8505 - val_loss: 0.1801 - val_accuracy: 0.9641\n",
            "Epoch 143/1000\n",
            "18/27 [===================>..........] - ETA: 0s - loss: 0.4008 - accuracy: 0.8490\n",
            "Epoch 143: saving model to model/keypoint_classifier\\keypoint_classifier.hdf5\n",
            "27/27 [==============================] - 0s 5ms/step - loss: 0.4127 - accuracy: 0.8451 - val_loss: 0.1785 - val_accuracy: 0.9686\n",
            "Epoch 144/1000\n",
            "18/27 [===================>..........] - ETA: 0s - loss: 0.4021 - accuracy: 0.8511\n",
            "Epoch 144: saving model to model/keypoint_classifier\\keypoint_classifier.hdf5\n",
            "27/27 [==============================] - 0s 5ms/step - loss: 0.4068 - accuracy: 0.8490 - val_loss: 0.1799 - val_accuracy: 0.9686\n",
            "Epoch 145/1000\n",
            "20/27 [=====================>........] - ETA: 0s - loss: 0.4040 - accuracy: 0.8402\n",
            "Epoch 145: saving model to model/keypoint_classifier\\keypoint_classifier.hdf5\n",
            "27/27 [==============================] - 0s 5ms/step - loss: 0.4113 - accuracy: 0.8409 - val_loss: 0.1826 - val_accuracy: 0.9668\n",
            "Epoch 146/1000\n",
            "21/27 [======================>.......] - ETA: 0s - loss: 0.4083 - accuracy: 0.8508\n",
            "Epoch 146: saving model to model/keypoint_classifier\\keypoint_classifier.hdf5\n",
            "27/27 [==============================] - 0s 7ms/step - loss: 0.4025 - accuracy: 0.8523 - val_loss: 0.1851 - val_accuracy: 0.9650\n",
            "Epoch 147/1000\n",
            "18/27 [===================>..........] - ETA: 0s - loss: 0.3956 - accuracy: 0.8589\n",
            "Epoch 147: saving model to model/keypoint_classifier\\keypoint_classifier.hdf5\n",
            "27/27 [==============================] - 0s 5ms/step - loss: 0.3932 - accuracy: 0.8568 - val_loss: 0.1840 - val_accuracy: 0.9704\n",
            "Epoch 147: early stopping\n"
          ]
        },
        {
          "data": {
            "text/plain": [
              "<keras.callbacks.History at 0x296b6f13820>"
            ]
          },
          "execution_count": 11,
          "metadata": {},
          "output_type": "execute_result"
        }
      ],
      "source": [
        "model.fit(\n",
        "    X_train,\n",
        "    y_train,\n",
        "    epochs=1000,\n",
        "    batch_size=128,\n",
        "    validation_data=(X_test, y_test),\n",
        "    callbacks=[cp_callback, es_callback]\n",
        ")"
      ]
    },
    {
      "cell_type": "code",
      "execution_count": 12,
      "metadata": {
        "colab": {
          "base_uri": "https://localhost:8080/"
        },
        "id": "pxvb2Y299hE3",
        "outputId": "59eb3185-2e37-4b9e-bc9d-ab1b8ac29b7f"
      },
      "outputs": [
        {
          "name": "stdout",
          "output_type": "stream",
          "text": [
            "9/9 [==============================] - 0s 3ms/step - loss: 0.1840 - accuracy: 0.9704\n"
          ]
        }
      ],
      "source": [
        "# Model evaluation\n",
        "val_loss, val_acc = model.evaluate(X_test, y_test, batch_size=128)"
      ]
    },
    {
      "cell_type": "code",
      "execution_count": 13,
      "metadata": {
        "id": "RBkmDeUW9hE4"
      },
      "outputs": [],
      "source": [
        "# Loading the saved model\n",
        "model = tf.keras.models.load_model(model_save_path)"
      ]
    },
    {
      "cell_type": "code",
      "execution_count": 14,
      "metadata": {
        "colab": {
          "base_uri": "https://localhost:8080/"
        },
        "id": "tFz9Tb0I9hE4",
        "outputId": "1c3b3528-54ae-4ee2-ab04-77429211cbef"
      },
      "outputs": [
        {
          "name": "stdout",
          "output_type": "stream",
          "text": [
            "1/1 [==============================] - 0s 78ms/step\n",
            "[8.0182040e-01 1.8398908e-01 1.4180159e-02 1.0355856e-05]\n",
            "0\n"
          ]
        }
      ],
      "source": [
        "# Inference test\n",
        "predict_result = model.predict(np.array([X_test[0]]))\n",
        "print(np.squeeze(predict_result))\n",
        "print(np.argmax(np.squeeze(predict_result)))"
      ]
    },
    {
      "cell_type": "markdown",
      "metadata": {
        "id": "S3U4yNWx9hE4"
      },
      "source": [
        "# Confusion matrix"
      ]
    },
    {
      "cell_type": "code",
      "execution_count": 15,
      "metadata": {
        "colab": {
          "base_uri": "https://localhost:8080/",
          "height": 582
        },
        "id": "AP1V6SCk9hE5",
        "outputId": "08e41a80-7a4a-4619-8125-ecc371368d19"
      },
      "outputs": [
        {
          "name": "stdout",
          "output_type": "stream",
          "text": [
            "35/35 [==============================] - 0s 1ms/step\n"
          ]
        },
        {
          "data": {
            "image/png": "[encoded data removed]",
            "text/plain": [
              "<Figure size 700x600 with 2 Axes>"
            ]
          },
          "metadata": {},
          "output_type": "display_data"
        },
        {
          "name": "stdout",
          "output_type": "stream",
          "text": [
            "Classification Report\n",
            "              precision    recall  f1-score   support\n",
            "\n",
            "           0       1.00      0.99      0.99       410\n",
            "           1       0.99      0.93      0.96       385\n",
            "           2       0.92      0.99      0.95       318\n",
            "\n",
            "    accuracy                           0.97      1113\n",
            "   macro avg       0.97      0.97      0.97      1113\n",
            "weighted avg       0.97      0.97      0.97      1113\n",
            "\n"
          ]
        }
      ],
      "source": [
        "import pandas as pd\n",
        "import seaborn as sns\n",
        "import matplotlib.pyplot as plt\n",
        "from sklearn.metrics import confusion_matrix, classification_report\n",
        "\n",
        "def print_confusion_matrix(y_true, y_pred, report=True):\n",
        "    labels = sorted(list(set(y_true)))\n",
        "    cmx_data = confusion_matrix(y_true, y_pred, labels=labels)\n",
        "    \n",
        "    df_cmx = pd.DataFrame(cmx_data, index=labels, columns=labels)\n",
        " \n",
        "    fig, ax = plt.subplots(figsize=(7, 6))\n",
        "    sns.heatmap(df_cmx, annot=True, fmt='g' ,square=False)\n",
        "    ax.set_ylim(len(set(y_true)), 0)\n",
        "    plt.show()\n",
        "    \n",
        "    if report:\n",
        "        print('Classification Report')\n",
        "        print(classification_report(y_test, y_pred))\n",
        "\n",
        "Y_pred = model.predict(X_test)\n",
        "y_pred = np.argmax(Y_pred, axis=1)\n",
        "\n",
        "print_confusion_matrix(y_test, y_pred)"
      ]
    },
    {
      "cell_type": "markdown",
      "metadata": {
        "id": "FNP6aqzc9hE5"
      },
      "source": [
        "# Convert to model for Tensorflow-Lite"
      ]
    },
    {
      "cell_type": "code",
      "execution_count": 16,
      "metadata": {
        "id": "ODjnYyld9hE6"
      },
      "outputs": [],
      "source": [
        "# Save as a model dedicated to inference\n",
        "model.save(model_save_path, include_optimizer=False)"
      ]
    },
    {
      "cell_type": "code",
      "execution_count": 17,
      "metadata": {
        "colab": {
          "base_uri": "https://localhost:8080/"
        },
        "id": "zRfuK8Y59hE6",
        "outputId": "a4ca585c-b5d5-4244-8291-8674063209bb"
      },
      "outputs": [
        {
          "name": "stdout",
          "output_type": "stream",
          "text": [
            "INFO:tensorflow:Assets written to: C:\\Users\\akash\\AppData\\Local\\Temp\\tmp044k22yg\\assets\n"
          ]
        },
        {
          "data": {
            "text/plain": [
              "6544"
            ]
          },
          "execution_count": 17,
          "metadata": {},
          "output_type": "execute_result"
        }
      ],
      "source": [
        "# Transform model (quantization)\n",
        "\n",
        "converter = tf.lite.TFLiteConverter.from_keras_model(model)\n",
        "converter.optimizations = [tf.lite.Optimize.DEFAULT]\n",
        "tflite_quantized_model = converter.convert()\n",
        "\n",
        "open(tflite_save_path, 'wb').write(tflite_quantized_model)"
      ]
    },
    {
      "cell_type": "markdown",
      "metadata": {
        "id": "CHBPBXdx9hE6"
      },
      "source": [
        "# Inference test"
      ]
    },
    {
      "cell_type": "code",
      "execution_count": 18,
      "metadata": {
        "id": "mGAzLocO9hE7"
      },
      "outputs": [],
      "source": [
        "interpreter = tf.lite.Interpreter(model_path=tflite_save_path)\n",
        "interpreter.allocate_tensors()"
      ]
    },
    {
      "cell_type": "code",
      "execution_count": 19,
      "metadata": {
        "id": "oQuDK8YS9hE7"
      },
      "outputs": [],
      "source": [
        "# Get I / O tensor\n",
        "input_details = interpreter.get_input_details()\n",
        "output_details = interpreter.get_output_details()"
      ]
    },
    {
      "cell_type": "code",
      "execution_count": 20,
      "metadata": {
        "id": "2_ixAf_l9hE7"
      },
      "outputs": [],
      "source": [
        "interpreter.set_tensor(input_details[0]['index'], np.array([X_test[0]]))"
      ]
    },
    {
      "cell_type": "code",
      "execution_count": 21,
      "metadata": {
        "colab": {
          "base_uri": "https://localhost:8080/"
        },
        "id": "s4FoAnuc9hE7",
        "outputId": "91f18257-8d8b-4ef3-c558-e9b5f94fabbf",
        "scrolled": true
      },
      "outputs": [
        {
          "name": "stdout",
          "output_type": "stream",
          "text": [
            "CPU times: total: 0 ns\n",
            "Wall time: 0 ns\n"
          ]
        }
      ],
      "source": [
        "%%time\n",
        "# Inference implementation\n",
        "interpreter.invoke()\n",
        "tflite_results = interpreter.get_tensor(output_details[0]['index'])"
      ]
    },
    {
      "cell_type": "code",
      "execution_count": 22,
      "metadata": {
        "colab": {
          "base_uri": "https://localhost:8080/"
        },
        "id": "vONjp19J9hE8",
        "outputId": "77205e24-fd00-42c4-f7b6-e06e527c2cba"
      },
      "outputs": [
        {
          "name": "stdout",
          "output_type": "stream",
          "text": [
            "[8.0182046e-01 1.8398905e-01 1.4180159e-02 1.0355857e-05]\n",
            "0\n"
          ]
        }
      ],
      "source": [
        "print(np.squeeze(tflite_results))\n",
        "print(np.argmax(np.squeeze(tflite_results)))"
      ]
    }
  ],
  "metadata": {
    "accelerator": "GPU",
    "colab": {
      "collapsed_sections": [],
      "name": "keypoint_classification_EN.ipynb",
      "provenance": [],
      "toc_visible": true
    },
    "kernelspec": {
      "display_name": "Python 3",
      "language": "python",
      "name": "python3"
    },
    "language_info": {
      "codemirror_mode": {
        "name": "ipython",
        "version": 3
      },
      "file_extension": ".py",
      "mimetype": "text/x-python",
      "name": "python",
      "nbconvert_exporter": "python",
      "pygments_lexer": "ipython3",
      "version": "3.9.19"
    }
  },
  "nbformat": 4,
  "nbformat_minor": 0
}
