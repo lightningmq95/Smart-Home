{
 "cells": [
  {
   "cell_type": "code",
   "execution_count": 7,
   "metadata": {},
   "outputs": [],
   "source": [
    "import cv2\n",
    "import mediapipe as mp"
   ]
  },
  {
   "cell_type": "code",
   "execution_count": 8,
   "metadata": {},
   "outputs": [],
   "source": [
    "# Initialize Mediapipe Hand module\n",
    "mp_hands = mp.solutions.hands\n",
    "hands = mp_hands.Hands()\n",
    "mp_drawing = mp.solutions.drawing_utils"
   ]
  },
  {
   "cell_type": "code",
   "execution_count": 9,
   "metadata": {},
   "outputs": [],
   "source": [
    "# Define the virtual button region (x1, y1, x2, y2)\n",
    "# button_region = (100, 100, 200, 200)"
   ]
  },
  {
   "cell_type": "code",
   "execution_count": 10,
   "metadata": {},
   "outputs": [],
   "source": [
    "# Capture video from the webcam\n",
    "cap = cv2.VideoCapture(0)"
   ]
  },
  {
   "cell_type": "code",
   "execution_count": 11,
   "metadata": {},
   "outputs": [],
   "source": [
    "# Initialize state variables\n",
    "led_on = False\n",
    "fan_on = False\n",
    "led_pressed = False\n",
    "fan_pressed = False"
   ]
  },
  {
   "cell_type": "code",
   "execution_count": 12,
   "metadata": {},
   "outputs": [],
   "source": [
    "while cap.isOpened():\n",
    "    ret, frame = cap.read()\n",
    "    if not ret:\n",
    "        break\n",
    "\n",
    "    # Flip the frame horizontally for a later selfie-view display\n",
    "    frame = cv2.flip(frame, 1)\n",
    "    frame_rgb = cv2.cvtColor(frame, cv2.COLOR_BGR2RGB)\n",
    "\n",
    "    # Define the virtual button region to cover the whole screen\n",
    "    button_region = (0, 0, frame.shape[1], frame.shape[0])\n",
    "\n",
    "    # Process the frame and detect hands\n",
    "    results = hands.process(frame_rgb)\n",
    "\n",
    "    # Draw the virtual button region\n",
    "    cv2.rectangle(frame, (button_region[0], button_region[1]), (button_region[2], button_region[3]), (0, 255, 0), 2)\n",
    "\n",
    "    count = 0\n",
    "\n",
    "    if results.multi_hand_landmarks:\n",
    "        for hand_landmarks in results.multi_hand_landmarks:\n",
    "            # Draw hand landmarks\n",
    "            mp_drawing.draw_landmarks(frame, hand_landmarks, mp_hands.HAND_CONNECTIONS)\n",
    "\n",
    "            # Get the coordinates of the index finger tip (landmark 8)\n",
    "            x_index = int(hand_landmarks.landmark[mp_hands.HandLandmark.INDEX_FINGER_TIP].x * frame.shape[1])\n",
    "            y_index = int(hand_landmarks.landmark[mp_hands.HandLandmark.INDEX_FINGER_TIP].y * frame.shape[0])\n",
    "\n",
    "            # Get the coordinates of the middle finger tip (landmark 12)\n",
    "            x_middle = int(hand_landmarks.landmark[mp_hands.HandLandmark.MIDDLE_FINGER_TIP].x * frame.shape[1])\n",
    "            y_middle = int(hand_landmarks.landmark[mp_hands.HandLandmark.MIDDLE_FINGER_TIP].y * frame.shape[0])\n",
    "\n",
    "            # Check if the index fingertip is within the button region and pointing upwards\n",
    "            if (button_region[0] < x_index < button_region[2] and button_region[1] < y_index < button_region[3] and\n",
    "                y_index < int(hand_landmarks.landmark[mp_hands.HandLandmark.INDEX_FINGER_DIP].y * frame.shape[0]) and\n",
    "                y_index < int(hand_landmarks.landmark[mp_hands.HandLandmark.INDEX_FINGER_PIP].y * frame.shape[0])):\n",
    "                count += 1\n",
    "\n",
    "            # Check if the middle fingertip is within the button region and pointing upwards\n",
    "            if (button_region[0] < x_middle < button_region[2] and button_region[1] < y_middle < button_region[3] and\n",
    "                y_middle < int(hand_landmarks.landmark[mp_hands.HandLandmark.MIDDLE_FINGER_DIP].y * frame.shape[0]) and\n",
    "                y_middle < int(hand_landmarks.landmark[mp_hands.HandLandmark.MIDDLE_FINGER_PIP].y * frame.shape[0])):\n",
    "                count += 1\n",
    "\n",
    "    # Toggle the state based on the number of fingers inside the button region\n",
    "    if count == 1:\n",
    "        if not led_pressed:\n",
    "            led_on = not led_on\n",
    "            led_pressed = True\n",
    "    else:\n",
    "        led_pressed = False\n",
    "\n",
    "    if count == 2:\n",
    "        if not fan_pressed:\n",
    "            fan_on = not fan_on\n",
    "            fan_pressed = True\n",
    "    else:\n",
    "        fan_pressed = False\n",
    "\n",
    "    # Display the current state of LED and FAN\n",
    "    led_state = \"LED on\" if led_on else \"LED off\"\n",
    "    fan_state = \"FAN on\" if fan_on else \"FAN off\"\n",
    "    cv2.putText(frame, led_state, (5, 30), cv2.FONT_HERSHEY_SIMPLEX, 1, (0, 0, 255), 2)\n",
    "    cv2.putText(frame, fan_state, (5, 80), cv2.FONT_HERSHEY_SIMPLEX, 1, (0, 0, 255), 2)\n",
    "\n",
    "    # Display the frame\n",
    "    cv2.imshow('Virtual Button', frame)\n",
    "    cv2.moveWindow('Virtual Button', 0, 0)\n",
    "\n",
    "    if cv2.waitKey(1) & 0xFF == 27:\n",
    "        break\n",
    "\n",
    "cap.release()\n",
    "cv2.destroyAllWindows()"
   ]
  }
 ],
 "metadata": {
  "kernelspec": {
   "display_name": "GG_2526",
   "language": "python",
   "name": "python3"
  },
  "language_info": {
   "codemirror_mode": {
    "name": "ipython",
    "version": 3
   },
   "file_extension": ".py",
   "mimetype": "text/x-python",
   "name": "python",
   "nbconvert_exporter": "python",
   "pygments_lexer": "ipython3",
   "version": "3.9.19"
  }
 },
 "nbformat": 4,
 "nbformat_minor": 2
}
