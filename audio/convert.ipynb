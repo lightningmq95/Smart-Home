{
 "cells": [
  {
   "cell_type": "code",
   "execution_count": 5,
   "metadata": {},
   "outputs": [
    {
     "name": "stdout",
     "output_type": "stream",
     "text": [
      "MoviePy - Writing audio in shubham.mp4\n"
     ]
    },
    {
     "name": "stderr",
     "output_type": "stream",
     "text": [
      "                                                                      "
     ]
    },
    {
     "name": "stdout",
     "output_type": "stream",
     "text": [
      "MoviePy - Done.\n"
     ]
    },
    {
     "name": "stderr",
     "output_type": "stream",
     "text": [
      "\r"
     ]
    }
   ],
   "source": [
    "from moviepy.editor import VideoFileClip\n",
    "\n",
    "# Load the .mov file\n",
    "video = VideoFileClip(\"shubham.mov\")\n",
    "\n",
    "# Extract the audio\n",
    "audio = video.audio\n",
    "\n",
    "# Write the audio to an .mp4 file\n",
    "audio.write_audiofile(\"shubham.mp4\", codec='aac')"
   ]
  },
  {
   "cell_type": "code",
   "execution_count": 14,
   "metadata": {},
   "outputs": [],
   "source": [
    "from pydub import AudioSegment\n",
    "\n",
    "# Load the MP4 audio file\n",
    "audio = AudioSegment.from_file(\"org_audio/shubham_org.mp4\", format=\"mp4\")\n",
    "\n",
    "# Duration of the audio file in milliseconds\n",
    "duration = len(audio)\n",
    "\n",
    "# Segment duration in milliseconds (10 seconds)\n",
    "segment_duration = 30 * 1000\n",
    "\n",
    "# Loop through the audio file and extract 10-second segments\n",
    "for i in range(0, duration, segment_duration):\n",
    "    # Extract segment\n",
    "    segment = audio[i:i + segment_duration]\n",
    "    \n",
    "    # Export segment as a new audio file\n",
    "    segment.export(f\"testing/output_segment_{i // segment_duration + 1}.mp4\", format=\"mp4\")"
   ]
  },
  {
   "cell_type": "code",
   "execution_count": 1,
   "metadata": {},
   "outputs": [
    {
     "data": {
      "text/plain": [
       "<_io.BufferedRandom name='combined_audio.mp4'>"
      ]
     },
     "execution_count": 1,
     "metadata": {},
     "output_type": "execute_result"
    }
   ],
   "source": [
    "from pydub import AudioSegment\n",
    "import os\n",
    "\n",
    "# Folder containing the audio files\n",
    "folder_path = \"akash_cloned\"\n",
    "\n",
    "# Initialize an empty AudioSegment\n",
    "combined_audio = AudioSegment.empty()\n",
    "\n",
    "# Iterate over all files in the folder\n",
    "for filename in os.listdir(folder_path):\n",
    "    if filename.endswith(\".mp3\") or filename.endswith(\".wav\"):  # Add other audio formats if needed\n",
    "        file_path = os.path.join(folder_path, filename)\n",
    "        audio = AudioSegment.from_file(file_path)\n",
    "        combined_audio += audio\n",
    "\n",
    "# Export the combined audio as an .mp4 file\n",
    "combined_audio.export(\"combined_audio.mp4\", format=\"mp4\", codec=\"aac\")"
   ]
  },
  {
   "cell_type": "code",
   "execution_count": 18,
   "metadata": {},
   "outputs": [
    {
     "name": "stdout",
     "output_type": "stream",
     "text": [
      "Conversion complete!\n"
     ]
    }
   ],
   "source": [
    "from pydub import AudioSegment\n",
    "import os\n",
    "\n",
    "# Define input and output directories\n",
    "input_dir = 'testing/old'\n",
    "output_dir = 'testing/new'\n",
    "\n",
    "# Ensure the output directory exists\n",
    "os.makedirs(output_dir, exist_ok=True)\n",
    "\n",
    "# Iterate through all files in the input directory\n",
    "for filename in os.listdir(input_dir):\n",
    "    if filename.endswith('.mp4a'):\n",
    "        # Define the full path for the input and output files\n",
    "        mp4a_path = os.path.join(input_dir, filename)\n",
    "        wav_filename = os.path.splitext(filename)[0] + '.wav'\n",
    "        wav_path = os.path.join(output_dir, wav_filename)\n",
    "        \n",
    "        # Load the MP4A file\n",
    "        audio = AudioSegment.from_file(mp4a_path, format='mp4')\n",
    "        \n",
    "        # Export the audio as a WAV file\n",
    "        audio.export(wav_path, format='wav')\n",
    "\n",
    "print(\"Conversion complete!\")"
   ]
  }
 ],
 "metadata": {
  "kernelspec": {
   "display_name": "GG_2526",
   "language": "python",
   "name": "python3"
  },
  "language_info": {
   "codemirror_mode": {
    "name": "ipython",
    "version": 3
   },
   "file_extension": ".py",
   "mimetype": "text/x-python",
   "name": "python",
   "nbconvert_exporter": "python",
   "pygments_lexer": "ipython3",
   "version": "3.9.19"
  }
 },
 "nbformat": 4,
 "nbformat_minor": 2
}
